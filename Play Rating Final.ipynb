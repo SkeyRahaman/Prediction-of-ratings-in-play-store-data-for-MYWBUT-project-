{
 "cells": [
  {
   "cell_type": "code",
   "execution_count": 6,
   "metadata": {},
   "outputs": [],
   "source": [
    "import pandas as pd\n",
    "import numpy as np\n",
    "from tqdm import tqdm"
   ]
  },
  {
   "cell_type": "code",
   "execution_count": 7,
   "metadata": {},
   "outputs": [
    {
     "data": {
      "text/html": [
       "<div>\n",
       "<style scoped>\n",
       "    .dataframe tbody tr th:only-of-type {\n",
       "        vertical-align: middle;\n",
       "    }\n",
       "\n",
       "    .dataframe tbody tr th {\n",
       "        vertical-align: top;\n",
       "    }\n",
       "\n",
       "    .dataframe thead th {\n",
       "        text-align: right;\n",
       "    }\n",
       "</style>\n",
       "<table border=\"1\" class=\"dataframe\">\n",
       "  <thead>\n",
       "    <tr style=\"text-align: right;\">\n",
       "      <th></th>\n",
       "      <th>App Name</th>\n",
       "      <th>Category</th>\n",
       "      <th>Rating</th>\n",
       "      <th>Reviews</th>\n",
       "      <th>Installs</th>\n",
       "      <th>Size</th>\n",
       "      <th>Price</th>\n",
       "      <th>Content Rating</th>\n",
       "      <th>Last Updated</th>\n",
       "      <th>Minimum Version</th>\n",
       "      <th>Latest Version</th>\n",
       "      <th>Unnamed: 11</th>\n",
       "      <th>Unnamed: 12</th>\n",
       "      <th>Unnamed: 13</th>\n",
       "      <th>Unnamed: 14</th>\n",
       "    </tr>\n",
       "  </thead>\n",
       "  <tbody>\n",
       "    <tr>\n",
       "      <th>0</th>\n",
       "      <td>DoorDash - Food Delivery</td>\n",
       "      <td>FOOD_AND_DRINK</td>\n",
       "      <td>4.548561573</td>\n",
       "      <td>305034</td>\n",
       "      <td>5,000,000+</td>\n",
       "      <td>Varies with device</td>\n",
       "      <td>0</td>\n",
       "      <td>Everyone</td>\n",
       "      <td>March 29, 2019</td>\n",
       "      <td>Varies with device</td>\n",
       "      <td>Varies with device</td>\n",
       "      <td>NaN</td>\n",
       "      <td>NaN</td>\n",
       "      <td>NaN</td>\n",
       "      <td>NaN</td>\n",
       "    </tr>\n",
       "    <tr>\n",
       "      <th>1</th>\n",
       "      <td>TripAdvisor Hotels Flights Restaurants Attract...</td>\n",
       "      <td>TRAVEL_AND_LOCAL</td>\n",
       "      <td>4.400671482</td>\n",
       "      <td>1.20792e+06</td>\n",
       "      <td>100,000,000+</td>\n",
       "      <td>Varies with device</td>\n",
       "      <td>0</td>\n",
       "      <td>Everyone</td>\n",
       "      <td>March 29, 2019</td>\n",
       "      <td>Varies with device</td>\n",
       "      <td>Varies with device</td>\n",
       "      <td>NaN</td>\n",
       "      <td>NaN</td>\n",
       "      <td>NaN</td>\n",
       "      <td>NaN</td>\n",
       "    </tr>\n",
       "    <tr>\n",
       "      <th>2</th>\n",
       "      <td>Peapod</td>\n",
       "      <td>SHOPPING</td>\n",
       "      <td>3.656329393</td>\n",
       "      <td>1967</td>\n",
       "      <td>100,000+</td>\n",
       "      <td>1.4M</td>\n",
       "      <td>0</td>\n",
       "      <td>Everyone</td>\n",
       "      <td>September 20, 2018</td>\n",
       "      <td>5.0 and up</td>\n",
       "      <td>2.2.0</td>\n",
       "      <td>NaN</td>\n",
       "      <td>NaN</td>\n",
       "      <td>NaN</td>\n",
       "      <td>NaN</td>\n",
       "    </tr>\n",
       "    <tr>\n",
       "      <th>3</th>\n",
       "      <td>foodpanda - Local Food Delivery</td>\n",
       "      <td>FOOD_AND_DRINK</td>\n",
       "      <td>4.107232571</td>\n",
       "      <td>389154</td>\n",
       "      <td>10,000,000+</td>\n",
       "      <td>16M</td>\n",
       "      <td>0</td>\n",
       "      <td>Everyone</td>\n",
       "      <td>March 22, 2019</td>\n",
       "      <td>4.2 and up</td>\n",
       "      <td>4.18.2</td>\n",
       "      <td>NaN</td>\n",
       "      <td>NaN</td>\n",
       "      <td>NaN</td>\n",
       "      <td>NaN</td>\n",
       "    </tr>\n",
       "    <tr>\n",
       "      <th>4</th>\n",
       "      <td>My CookBook Pro (Ad Free)</td>\n",
       "      <td>FOOD_AND_DRINK</td>\n",
       "      <td>4.647752285</td>\n",
       "      <td>2291</td>\n",
       "      <td>10,000+</td>\n",
       "      <td>Varies with device</td>\n",
       "      <td>$5.99</td>\n",
       "      <td>Everyone</td>\n",
       "      <td>April 1, 2019</td>\n",
       "      <td>Varies with device</td>\n",
       "      <td>Varies with device</td>\n",
       "      <td>NaN</td>\n",
       "      <td>NaN</td>\n",
       "      <td>NaN</td>\n",
       "      <td>NaN</td>\n",
       "    </tr>\n",
       "    <tr>\n",
       "      <th>5</th>\n",
       "      <td>Safeway Online Shopping</td>\n",
       "      <td>FOOD_AND_DRINK</td>\n",
       "      <td>3.82532239</td>\n",
       "      <td>2559</td>\n",
       "      <td>100,000+</td>\n",
       "      <td>23M</td>\n",
       "      <td>0</td>\n",
       "      <td>Everyone</td>\n",
       "      <td>March 29, 2019</td>\n",
       "      <td>5.0 and up</td>\n",
       "      <td>7.6.0</td>\n",
       "      <td>NaN</td>\n",
       "      <td>NaN</td>\n",
       "      <td>NaN</td>\n",
       "      <td>NaN</td>\n",
       "    </tr>\n",
       "  </tbody>\n",
       "</table>\n",
       "</div>"
      ],
      "text/plain": [
       "                                            App Name          Category  \\\n",
       "0                           DoorDash - Food Delivery    FOOD_AND_DRINK   \n",
       "1  TripAdvisor Hotels Flights Restaurants Attract...  TRAVEL_AND_LOCAL   \n",
       "2                                             Peapod          SHOPPING   \n",
       "3                    foodpanda - Local Food Delivery    FOOD_AND_DRINK   \n",
       "4                          My CookBook Pro (Ad Free)    FOOD_AND_DRINK   \n",
       "5                            Safeway Online Shopping    FOOD_AND_DRINK   \n",
       "\n",
       "        Rating      Reviews      Installs                Size  Price  \\\n",
       "0  4.548561573       305034    5,000,000+  Varies with device      0   \n",
       "1  4.400671482  1.20792e+06  100,000,000+  Varies with device      0   \n",
       "2  3.656329393         1967      100,000+                1.4M      0   \n",
       "3  4.107232571       389154   10,000,000+                 16M      0   \n",
       "4  4.647752285         2291       10,000+  Varies with device  $5.99   \n",
       "5   3.82532239         2559      100,000+                 23M      0   \n",
       "\n",
       "  Content Rating        Last Updated     Minimum Version      Latest Version  \\\n",
       "0       Everyone      March 29, 2019  Varies with device  Varies with device   \n",
       "1       Everyone      March 29, 2019  Varies with device  Varies with device   \n",
       "2       Everyone  September 20, 2018          5.0 and up               2.2.0   \n",
       "3       Everyone      March 22, 2019          4.2 and up              4.18.2   \n",
       "4       Everyone       April 1, 2019  Varies with device  Varies with device   \n",
       "5       Everyone      March 29, 2019          5.0 and up               7.6.0   \n",
       "\n",
       "  Unnamed: 11 Unnamed: 12 Unnamed: 13  Unnamed: 14  \n",
       "0         NaN         NaN         NaN          NaN  \n",
       "1         NaN         NaN         NaN          NaN  \n",
       "2         NaN         NaN         NaN          NaN  \n",
       "3         NaN         NaN         NaN          NaN  \n",
       "4         NaN         NaN         NaN          NaN  \n",
       "5         NaN         NaN         NaN          NaN  "
      ]
     },
     "execution_count": 7,
     "metadata": {},
     "output_type": "execute_result"
    }
   ],
   "source": [
    "data = pd.read_csv(\"Google-Playstore-Full.csv\")\n",
    "data.head(6)"
   ]
  },
  {
   "cell_type": "code",
   "execution_count": 8,
   "metadata": {},
   "outputs": [
    {
     "data": {
      "text/plain": [
       "(267052, 15)"
      ]
     },
     "execution_count": 8,
     "metadata": {},
     "output_type": "execute_result"
    }
   ],
   "source": [
    "data.shape"
   ]
  },
  {
   "cell_type": "code",
   "execution_count": 9,
   "metadata": {},
   "outputs": [
    {
     "data": {
      "text/plain": [
       "Index(['App Name', 'Category', 'Rating', 'Reviews', 'Installs', 'Size',\n",
       "       'Price', 'Content Rating', 'Last Updated', 'Minimum Version',\n",
       "       'Latest Version', 'Unnamed: 11', 'Unnamed: 12', 'Unnamed: 13',\n",
       "       'Unnamed: 14'],\n",
       "      dtype='object')"
      ]
     },
     "execution_count": 9,
     "metadata": {},
     "output_type": "execute_result"
    }
   ],
   "source": [
    "data.columns"
   ]
  },
  {
   "cell_type": "code",
   "execution_count": 10,
   "metadata": {},
   "outputs": [],
   "source": [
    "data.drop(columns={'Unnamed: 11', 'Unnamed: 12', 'Unnamed: 13','Unnamed: 14'},inplace = True)  #removing the empty columns!"
   ]
  },
  {
   "cell_type": "code",
   "execution_count": 11,
   "metadata": {},
   "outputs": [
    {
     "data": {
      "text/html": [
       "<div>\n",
       "<style scoped>\n",
       "    .dataframe tbody tr th:only-of-type {\n",
       "        vertical-align: middle;\n",
       "    }\n",
       "\n",
       "    .dataframe tbody tr th {\n",
       "        vertical-align: top;\n",
       "    }\n",
       "\n",
       "    .dataframe thead th {\n",
       "        text-align: right;\n",
       "    }\n",
       "</style>\n",
       "<table border=\"1\" class=\"dataframe\">\n",
       "  <thead>\n",
       "    <tr style=\"text-align: right;\">\n",
       "      <th></th>\n",
       "      <th>Category</th>\n",
       "      <th>Rating</th>\n",
       "      <th>Reviews</th>\n",
       "      <th>Installs</th>\n",
       "      <th>Size</th>\n",
       "      <th>Price</th>\n",
       "      <th>Content Rating</th>\n",
       "      <th>Last Updated</th>\n",
       "      <th>Minimum Version</th>\n",
       "      <th>Latest Version</th>\n",
       "    </tr>\n",
       "  </thead>\n",
       "  <tbody>\n",
       "    <tr>\n",
       "      <th>0</th>\n",
       "      <td>FOOD_AND_DRINK</td>\n",
       "      <td>4.548561573</td>\n",
       "      <td>305034</td>\n",
       "      <td>5,000,000+</td>\n",
       "      <td>Varies with device</td>\n",
       "      <td>0</td>\n",
       "      <td>Everyone</td>\n",
       "      <td>March 29, 2019</td>\n",
       "      <td>Varies with device</td>\n",
       "      <td>Varies with device</td>\n",
       "    </tr>\n",
       "    <tr>\n",
       "      <th>1</th>\n",
       "      <td>TRAVEL_AND_LOCAL</td>\n",
       "      <td>4.400671482</td>\n",
       "      <td>1.20792e+06</td>\n",
       "      <td>100,000,000+</td>\n",
       "      <td>Varies with device</td>\n",
       "      <td>0</td>\n",
       "      <td>Everyone</td>\n",
       "      <td>March 29, 2019</td>\n",
       "      <td>Varies with device</td>\n",
       "      <td>Varies with device</td>\n",
       "    </tr>\n",
       "    <tr>\n",
       "      <th>2</th>\n",
       "      <td>SHOPPING</td>\n",
       "      <td>3.656329393</td>\n",
       "      <td>1967</td>\n",
       "      <td>100,000+</td>\n",
       "      <td>1.4M</td>\n",
       "      <td>0</td>\n",
       "      <td>Everyone</td>\n",
       "      <td>September 20, 2018</td>\n",
       "      <td>5.0 and up</td>\n",
       "      <td>2.2.0</td>\n",
       "    </tr>\n",
       "    <tr>\n",
       "      <th>3</th>\n",
       "      <td>FOOD_AND_DRINK</td>\n",
       "      <td>4.107232571</td>\n",
       "      <td>389154</td>\n",
       "      <td>10,000,000+</td>\n",
       "      <td>16M</td>\n",
       "      <td>0</td>\n",
       "      <td>Everyone</td>\n",
       "      <td>March 22, 2019</td>\n",
       "      <td>4.2 and up</td>\n",
       "      <td>4.18.2</td>\n",
       "    </tr>\n",
       "    <tr>\n",
       "      <th>4</th>\n",
       "      <td>FOOD_AND_DRINK</td>\n",
       "      <td>4.647752285</td>\n",
       "      <td>2291</td>\n",
       "      <td>10,000+</td>\n",
       "      <td>Varies with device</td>\n",
       "      <td>$5.99</td>\n",
       "      <td>Everyone</td>\n",
       "      <td>April 1, 2019</td>\n",
       "      <td>Varies with device</td>\n",
       "      <td>Varies with device</td>\n",
       "    </tr>\n",
       "  </tbody>\n",
       "</table>\n",
       "</div>"
      ],
      "text/plain": [
       "           Category       Rating      Reviews      Installs  \\\n",
       "0    FOOD_AND_DRINK  4.548561573       305034    5,000,000+   \n",
       "1  TRAVEL_AND_LOCAL  4.400671482  1.20792e+06  100,000,000+   \n",
       "2          SHOPPING  3.656329393         1967      100,000+   \n",
       "3    FOOD_AND_DRINK  4.107232571       389154   10,000,000+   \n",
       "4    FOOD_AND_DRINK  4.647752285         2291       10,000+   \n",
       "\n",
       "                 Size  Price Content Rating        Last Updated  \\\n",
       "0  Varies with device      0       Everyone      March 29, 2019   \n",
       "1  Varies with device      0       Everyone      March 29, 2019   \n",
       "2                1.4M      0       Everyone  September 20, 2018   \n",
       "3                 16M      0       Everyone      March 22, 2019   \n",
       "4  Varies with device  $5.99       Everyone       April 1, 2019   \n",
       "\n",
       "      Minimum Version      Latest Version  \n",
       "0  Varies with device  Varies with device  \n",
       "1  Varies with device  Varies with device  \n",
       "2          5.0 and up               2.2.0  \n",
       "3          4.2 and up              4.18.2  \n",
       "4  Varies with device  Varies with device  "
      ]
     },
     "execution_count": 11,
     "metadata": {},
     "output_type": "execute_result"
    }
   ],
   "source": [
    "data.drop(columns= {'App Name'},inplace = True)   #removing the application name as name is not that much important in case of ratting.\n",
    "data.head()"
   ]
  },
  {
   "cell_type": "code",
   "execution_count": 12,
   "metadata": {
    "scrolled": false
   },
   "outputs": [
    {
     "data": {
      "text/plain": [
       "Varies with device    11726\n",
       "11M                    7312\n",
       "12M                    6362\n",
       "13M                    5569\n",
       "14M                    5266\n",
       "Name: Size, dtype: int64"
      ]
     },
     "execution_count": 12,
     "metadata": {},
     "output_type": "execute_result"
    }
   ],
   "source": [
    "data['Size'].value_counts().head()"
   ]
  },
  {
   "cell_type": "code",
   "execution_count": 13,
   "metadata": {},
   "outputs": [],
   "source": [
    "list_of_values_in_size_column = []\n",
    "list_of_values_in_size_column = data['Size'].values"
   ]
  },
  {
   "cell_type": "code",
   "execution_count": 14,
   "metadata": {},
   "outputs": [],
   "source": [
    "# As all the values in the column size are string. We need to convert them to \n",
    "# integer data. So we will check the last element in all strings in the data and\n",
    "# if they have \"k\" in their last place they are converted to an integer and if they\n",
    "# have \"m\" in their last place so they are multiplied by 1024 to convert\n",
    "# them to kilobyte and then convert them to integer .if not \"k\" and \"m\" they \n",
    "# are written as \"0\" which will be eliminated later."
   ]
  },
  {
   "cell_type": "code",
   "execution_count": 15,
   "metadata": {},
   "outputs": [
    {
     "data": {
      "text/plain": [
       "267052"
      ]
     },
     "execution_count": 15,
     "metadata": {},
     "output_type": "execute_result"
    }
   ],
   "source": [
    "len(list_of_values_in_size_column)"
   ]
  },
  {
   "cell_type": "code",
   "execution_count": 16,
   "metadata": {},
   "outputs": [],
   "source": [
    "corrected_list_of_values_in_size_column = []                       #Convertinv all the values to kilobyte or 0.   \n",
    "for i in list_of_values_in_size_column:\n",
    "    if(i[-1] == \"k\"):\n",
    "        integer=i[:-1]\n",
    "        integer = integer.replace(',','')\n",
    "        corrected_list_of_values_in_size_column.append(float(integer))\n",
    "    elif (i[-1] == \"M\"):\n",
    "        integer=i[:-1]\n",
    "        integer = integer.replace(',','')\n",
    "        corrected_list_of_values_in_size_column.append(float(integer)*1024)\n",
    "    else:\n",
    "        corrected_list_of_values_in_size_column.append(0)          #bad data is converted to 0 which will be eleminated later."
   ]
  },
  {
   "cell_type": "code",
   "execution_count": 17,
   "metadata": {},
   "outputs": [],
   "source": [
    "# Adding the new filtered and modified data to our table and filtering all the removable data. \n",
    "data['size(Kb)'] = corrected_list_of_values_in_size_column\n",
    "data = data[data['size(Kb)'] != 0]           "
   ]
  },
  {
   "cell_type": "code",
   "execution_count": 18,
   "metadata": {},
   "outputs": [],
   "source": [
    "# Removing the (mixed_type_data) size column \n",
    "data.drop(columns={'Size'},inplace=True)   "
   ]
  },
  {
   "cell_type": "code",
   "execution_count": 19,
   "metadata": {
    "scrolled": true
   },
   "outputs": [
    {
     "data": {
      "text/html": [
       "<div>\n",
       "<style scoped>\n",
       "    .dataframe tbody tr th:only-of-type {\n",
       "        vertical-align: middle;\n",
       "    }\n",
       "\n",
       "    .dataframe tbody tr th {\n",
       "        vertical-align: top;\n",
       "    }\n",
       "\n",
       "    .dataframe thead th {\n",
       "        text-align: right;\n",
       "    }\n",
       "</style>\n",
       "<table border=\"1\" class=\"dataframe\">\n",
       "  <thead>\n",
       "    <tr style=\"text-align: right;\">\n",
       "      <th></th>\n",
       "      <th>Category</th>\n",
       "      <th>Rating</th>\n",
       "      <th>Reviews</th>\n",
       "      <th>Installs</th>\n",
       "      <th>Price</th>\n",
       "      <th>Content Rating</th>\n",
       "      <th>Last Updated</th>\n",
       "      <th>Minimum Version</th>\n",
       "      <th>Latest Version</th>\n",
       "      <th>size(Kb)</th>\n",
       "    </tr>\n",
       "  </thead>\n",
       "  <tbody>\n",
       "    <tr>\n",
       "      <th>2</th>\n",
       "      <td>SHOPPING</td>\n",
       "      <td>3.656329393</td>\n",
       "      <td>1967</td>\n",
       "      <td>100,000+</td>\n",
       "      <td>0</td>\n",
       "      <td>Everyone</td>\n",
       "      <td>September 20, 2018</td>\n",
       "      <td>5.0 and up</td>\n",
       "      <td>2.2.0</td>\n",
       "      <td>1433.6</td>\n",
       "    </tr>\n",
       "    <tr>\n",
       "      <th>3</th>\n",
       "      <td>FOOD_AND_DRINK</td>\n",
       "      <td>4.107232571</td>\n",
       "      <td>389154</td>\n",
       "      <td>10,000,000+</td>\n",
       "      <td>0</td>\n",
       "      <td>Everyone</td>\n",
       "      <td>March 22, 2019</td>\n",
       "      <td>4.2 and up</td>\n",
       "      <td>4.18.2</td>\n",
       "      <td>16384.0</td>\n",
       "    </tr>\n",
       "    <tr>\n",
       "      <th>5</th>\n",
       "      <td>FOOD_AND_DRINK</td>\n",
       "      <td>3.82532239</td>\n",
       "      <td>2559</td>\n",
       "      <td>100,000+</td>\n",
       "      <td>0</td>\n",
       "      <td>Everyone</td>\n",
       "      <td>March 29, 2019</td>\n",
       "      <td>5.0 and up</td>\n",
       "      <td>7.6.0</td>\n",
       "      <td>23552.0</td>\n",
       "    </tr>\n",
       "    <tr>\n",
       "      <th>8</th>\n",
       "      <td>TRAVEL_AND_LOCAL</td>\n",
       "      <td>3.811764717</td>\n",
       "      <td>85</td>\n",
       "      <td>10,000+</td>\n",
       "      <td>0</td>\n",
       "      <td>Everyone</td>\n",
       "      <td>February 10, 2019</td>\n",
       "      <td>4.3 and up</td>\n",
       "      <td>2.4</td>\n",
       "      <td>4198.4</td>\n",
       "    </tr>\n",
       "    <tr>\n",
       "      <th>12</th>\n",
       "      <td>LIFESTYLE</td>\n",
       "      <td>3.213527918</td>\n",
       "      <td>754</td>\n",
       "      <td>100,000+</td>\n",
       "      <td>0</td>\n",
       "      <td>Everyone</td>\n",
       "      <td>March 27, 2019</td>\n",
       "      <td>5.0 and up</td>\n",
       "      <td>6.7</td>\n",
       "      <td>39936.0</td>\n",
       "    </tr>\n",
       "  </tbody>\n",
       "</table>\n",
       "</div>"
      ],
      "text/plain": [
       "            Category       Rating Reviews     Installs Price Content Rating  \\\n",
       "2           SHOPPING  3.656329393    1967     100,000+     0       Everyone   \n",
       "3     FOOD_AND_DRINK  4.107232571  389154  10,000,000+     0       Everyone   \n",
       "5     FOOD_AND_DRINK   3.82532239    2559     100,000+     0       Everyone   \n",
       "8   TRAVEL_AND_LOCAL  3.811764717      85      10,000+     0       Everyone   \n",
       "12         LIFESTYLE  3.213527918     754     100,000+     0       Everyone   \n",
       "\n",
       "          Last Updated Minimum Version Latest Version  size(Kb)  \n",
       "2   September 20, 2018      5.0 and up          2.2.0    1433.6  \n",
       "3       March 22, 2019      4.2 and up         4.18.2   16384.0  \n",
       "5       March 29, 2019      5.0 and up          7.6.0   23552.0  \n",
       "8    February 10, 2019      4.3 and up            2.4    4198.4  \n",
       "12      March 27, 2019      5.0 and up            6.7   39936.0  "
      ]
     },
     "execution_count": 19,
     "metadata": {},
     "output_type": "execute_result"
    }
   ],
   "source": [
    "data.head()"
   ]
  },
  {
   "cell_type": "code",
   "execution_count": 20,
   "metadata": {},
   "outputs": [],
   "source": [
    "# Removing the 'Latest Version' and 'Last Updated' column as Every application has their own way of upgrade scall\n",
    "# hense we cannot use this data in compareson.\n",
    "data.drop(columns={'Latest Version'},inplace = True)\n",
    "data.drop(columns={'Last Updated'},inplace=True)"
   ]
  },
  {
   "cell_type": "code",
   "execution_count": 21,
   "metadata": {},
   "outputs": [
    {
     "data": {
      "text/html": [
       "<div>\n",
       "<style scoped>\n",
       "    .dataframe tbody tr th:only-of-type {\n",
       "        vertical-align: middle;\n",
       "    }\n",
       "\n",
       "    .dataframe tbody tr th {\n",
       "        vertical-align: top;\n",
       "    }\n",
       "\n",
       "    .dataframe thead th {\n",
       "        text-align: right;\n",
       "    }\n",
       "</style>\n",
       "<table border=\"1\" class=\"dataframe\">\n",
       "  <thead>\n",
       "    <tr style=\"text-align: right;\">\n",
       "      <th></th>\n",
       "      <th>Category</th>\n",
       "      <th>Rating</th>\n",
       "      <th>Reviews</th>\n",
       "      <th>Installs</th>\n",
       "      <th>Price</th>\n",
       "      <th>Content Rating</th>\n",
       "      <th>Minimum Version</th>\n",
       "      <th>size(Kb)</th>\n",
       "    </tr>\n",
       "  </thead>\n",
       "  <tbody>\n",
       "    <tr>\n",
       "      <th>2</th>\n",
       "      <td>SHOPPING</td>\n",
       "      <td>3.656329393</td>\n",
       "      <td>1967</td>\n",
       "      <td>100,000+</td>\n",
       "      <td>0</td>\n",
       "      <td>Everyone</td>\n",
       "      <td>5.0 and up</td>\n",
       "      <td>1433.6</td>\n",
       "    </tr>\n",
       "    <tr>\n",
       "      <th>3</th>\n",
       "      <td>FOOD_AND_DRINK</td>\n",
       "      <td>4.107232571</td>\n",
       "      <td>389154</td>\n",
       "      <td>10,000,000+</td>\n",
       "      <td>0</td>\n",
       "      <td>Everyone</td>\n",
       "      <td>4.2 and up</td>\n",
       "      <td>16384.0</td>\n",
       "    </tr>\n",
       "    <tr>\n",
       "      <th>5</th>\n",
       "      <td>FOOD_AND_DRINK</td>\n",
       "      <td>3.82532239</td>\n",
       "      <td>2559</td>\n",
       "      <td>100,000+</td>\n",
       "      <td>0</td>\n",
       "      <td>Everyone</td>\n",
       "      <td>5.0 and up</td>\n",
       "      <td>23552.0</td>\n",
       "    </tr>\n",
       "    <tr>\n",
       "      <th>8</th>\n",
       "      <td>TRAVEL_AND_LOCAL</td>\n",
       "      <td>3.811764717</td>\n",
       "      <td>85</td>\n",
       "      <td>10,000+</td>\n",
       "      <td>0</td>\n",
       "      <td>Everyone</td>\n",
       "      <td>4.3 and up</td>\n",
       "      <td>4198.4</td>\n",
       "    </tr>\n",
       "    <tr>\n",
       "      <th>12</th>\n",
       "      <td>LIFESTYLE</td>\n",
       "      <td>3.213527918</td>\n",
       "      <td>754</td>\n",
       "      <td>100,000+</td>\n",
       "      <td>0</td>\n",
       "      <td>Everyone</td>\n",
       "      <td>5.0 and up</td>\n",
       "      <td>39936.0</td>\n",
       "    </tr>\n",
       "  </tbody>\n",
       "</table>\n",
       "</div>"
      ],
      "text/plain": [
       "            Category       Rating Reviews     Installs Price Content Rating  \\\n",
       "2           SHOPPING  3.656329393    1967     100,000+     0       Everyone   \n",
       "3     FOOD_AND_DRINK  4.107232571  389154  10,000,000+     0       Everyone   \n",
       "5     FOOD_AND_DRINK   3.82532239    2559     100,000+     0       Everyone   \n",
       "8   TRAVEL_AND_LOCAL  3.811764717      85      10,000+     0       Everyone   \n",
       "12         LIFESTYLE  3.213527918     754     100,000+     0       Everyone   \n",
       "\n",
       "   Minimum Version  size(Kb)  \n",
       "2       5.0 and up    1433.6  \n",
       "3       4.2 and up   16384.0  \n",
       "5       5.0 and up   23552.0  \n",
       "8       4.3 and up    4198.4  \n",
       "12      5.0 and up   39936.0  "
      ]
     },
     "execution_count": 21,
     "metadata": {},
     "output_type": "execute_result"
    }
   ],
   "source": [
    "data.head(5)"
   ]
  },
  {
   "cell_type": "code",
   "execution_count": 22,
   "metadata": {},
   "outputs": [
    {
     "data": {
      "text/plain": [
       "Everyone           231227\n",
       "Teen                16436\n",
       "Everyone 10+         4295\n",
       "Mature 17+           3305\n",
       "Unrated                33\n",
       "Adults only 18+        12\n",
       "Name: Content Rating, dtype: int64"
      ]
     },
     "execution_count": 22,
     "metadata": {},
     "output_type": "execute_result"
    }
   ],
   "source": [
    "data['Content Rating'].value_counts()"
   ]
  },
  {
   "cell_type": "code",
   "execution_count": 23,
   "metadata": {},
   "outputs": [],
   "source": [
    "# It  is clear from the above block that the data we are working with is \n",
    "# biased and we know that this biased data will hamper our prediction \n",
    "# hense we will be removing all the others except everyone row, resulting in\n",
    "# removing the biases hense then we will remove the column as this will \n",
    "# possess only one type of data"
   ]
  },
  {
   "cell_type": "code",
   "execution_count": 24,
   "metadata": {},
   "outputs": [],
   "source": [
    "data = data[data['Content Rating']==\"Everyone\"]\n",
    "data.drop(columns={'Content Rating'},inplace = True)"
   ]
  },
  {
   "cell_type": "raw",
   "metadata": {},
   "source": [
    "data = data[data['Content Rating']==\"Everyone\"]\n",
    "data.drop(columns={'Content Rating'},inplace = True)"
   ]
  },
  {
   "cell_type": "code",
   "execution_count": 25,
   "metadata": {},
   "outputs": [
    {
     "data": {
      "text/html": [
       "<div>\n",
       "<style scoped>\n",
       "    .dataframe tbody tr th:only-of-type {\n",
       "        vertical-align: middle;\n",
       "    }\n",
       "\n",
       "    .dataframe tbody tr th {\n",
       "        vertical-align: top;\n",
       "    }\n",
       "\n",
       "    .dataframe thead th {\n",
       "        text-align: right;\n",
       "    }\n",
       "</style>\n",
       "<table border=\"1\" class=\"dataframe\">\n",
       "  <thead>\n",
       "    <tr style=\"text-align: right;\">\n",
       "      <th></th>\n",
       "      <th>Category</th>\n",
       "      <th>Rating</th>\n",
       "      <th>Reviews</th>\n",
       "      <th>Installs</th>\n",
       "      <th>Price</th>\n",
       "      <th>Minimum Version</th>\n",
       "      <th>size(Kb)</th>\n",
       "    </tr>\n",
       "  </thead>\n",
       "  <tbody>\n",
       "    <tr>\n",
       "      <th>2</th>\n",
       "      <td>SHOPPING</td>\n",
       "      <td>3.656329393</td>\n",
       "      <td>1967</td>\n",
       "      <td>100,000+</td>\n",
       "      <td>0</td>\n",
       "      <td>5.0 and up</td>\n",
       "      <td>1433.6</td>\n",
       "    </tr>\n",
       "    <tr>\n",
       "      <th>3</th>\n",
       "      <td>FOOD_AND_DRINK</td>\n",
       "      <td>4.107232571</td>\n",
       "      <td>389154</td>\n",
       "      <td>10,000,000+</td>\n",
       "      <td>0</td>\n",
       "      <td>4.2 and up</td>\n",
       "      <td>16384.0</td>\n",
       "    </tr>\n",
       "    <tr>\n",
       "      <th>5</th>\n",
       "      <td>FOOD_AND_DRINK</td>\n",
       "      <td>3.82532239</td>\n",
       "      <td>2559</td>\n",
       "      <td>100,000+</td>\n",
       "      <td>0</td>\n",
       "      <td>5.0 and up</td>\n",
       "      <td>23552.0</td>\n",
       "    </tr>\n",
       "    <tr>\n",
       "      <th>8</th>\n",
       "      <td>TRAVEL_AND_LOCAL</td>\n",
       "      <td>3.811764717</td>\n",
       "      <td>85</td>\n",
       "      <td>10,000+</td>\n",
       "      <td>0</td>\n",
       "      <td>4.3 and up</td>\n",
       "      <td>4198.4</td>\n",
       "    </tr>\n",
       "    <tr>\n",
       "      <th>12</th>\n",
       "      <td>LIFESTYLE</td>\n",
       "      <td>3.213527918</td>\n",
       "      <td>754</td>\n",
       "      <td>100,000+</td>\n",
       "      <td>0</td>\n",
       "      <td>5.0 and up</td>\n",
       "      <td>39936.0</td>\n",
       "    </tr>\n",
       "  </tbody>\n",
       "</table>\n",
       "</div>"
      ],
      "text/plain": [
       "            Category       Rating Reviews     Installs Price Minimum Version  \\\n",
       "2           SHOPPING  3.656329393    1967     100,000+     0      5.0 and up   \n",
       "3     FOOD_AND_DRINK  4.107232571  389154  10,000,000+     0      4.2 and up   \n",
       "5     FOOD_AND_DRINK   3.82532239    2559     100,000+     0      5.0 and up   \n",
       "8   TRAVEL_AND_LOCAL  3.811764717      85      10,000+     0      4.3 and up   \n",
       "12         LIFESTYLE  3.213527918     754     100,000+     0      5.0 and up   \n",
       "\n",
       "    size(Kb)  \n",
       "2     1433.6  \n",
       "3    16384.0  \n",
       "5    23552.0  \n",
       "8     4198.4  \n",
       "12   39936.0  "
      ]
     },
     "execution_count": 25,
     "metadata": {},
     "output_type": "execute_result"
    }
   ],
   "source": [
    "data.head()"
   ]
  },
  {
   "cell_type": "code",
   "execution_count": 26,
   "metadata": {},
   "outputs": [],
   "source": [
    "# Making a list of all datas present in the MiniVertion column.\n",
    "minimum_version_list = data['Minimum Version'].values"
   ]
  },
  {
   "cell_type": "code",
   "execution_count": 27,
   "metadata": {},
   "outputs": [],
   "source": [
    "# As we can only use the numeric value in machine learning algorithms\n",
    "# hense we will take the first letter in all the values in the column and convert to their integer form."
   ]
  },
  {
   "cell_type": "code",
   "execution_count": 28,
   "metadata": {},
   "outputs": [],
   "source": [
    "minimum_version_list_first_letter = []\n",
    "for i in minimum_version_list:\n",
    "    try:\n",
    "        minimum_version_list_first_letter.append(int(i[0]))\n",
    "    except:\n",
    "        minimum_version_list_first_letter.append(0)"
   ]
  },
  {
   "cell_type": "code",
   "execution_count": 29,
   "metadata": {},
   "outputs": [],
   "source": [
    "data.drop(columns={'Minimum Version'},inplace = True)"
   ]
  },
  {
   "cell_type": "code",
   "execution_count": 30,
   "metadata": {},
   "outputs": [],
   "source": [
    "data['Minimum Version'] = minimum_version_list_first_letter"
   ]
  },
  {
   "cell_type": "code",
   "execution_count": 31,
   "metadata": {},
   "outputs": [],
   "source": [
    "data = data[data['Minimum Version']!=0]"
   ]
  },
  {
   "cell_type": "code",
   "execution_count": 32,
   "metadata": {},
   "outputs": [
    {
     "data": {
      "text/plain": [
       "(230770, 7)"
      ]
     },
     "execution_count": 32,
     "metadata": {},
     "output_type": "execute_result"
    }
   ],
   "source": [
    "data.shape"
   ]
  },
  {
   "cell_type": "code",
   "execution_count": 33,
   "metadata": {},
   "outputs": [
    {
     "data": {
      "text/html": [
       "<div>\n",
       "<style scoped>\n",
       "    .dataframe tbody tr th:only-of-type {\n",
       "        vertical-align: middle;\n",
       "    }\n",
       "\n",
       "    .dataframe tbody tr th {\n",
       "        vertical-align: top;\n",
       "    }\n",
       "\n",
       "    .dataframe thead th {\n",
       "        text-align: right;\n",
       "    }\n",
       "</style>\n",
       "<table border=\"1\" class=\"dataframe\">\n",
       "  <thead>\n",
       "    <tr style=\"text-align: right;\">\n",
       "      <th></th>\n",
       "      <th>Category</th>\n",
       "      <th>Rating</th>\n",
       "      <th>Reviews</th>\n",
       "      <th>Installs</th>\n",
       "      <th>Price</th>\n",
       "      <th>size(Kb)</th>\n",
       "      <th>Minimum Version</th>\n",
       "    </tr>\n",
       "  </thead>\n",
       "  <tbody>\n",
       "    <tr>\n",
       "      <th>2</th>\n",
       "      <td>SHOPPING</td>\n",
       "      <td>3.656329393</td>\n",
       "      <td>1967</td>\n",
       "      <td>100,000+</td>\n",
       "      <td>0</td>\n",
       "      <td>1433.6</td>\n",
       "      <td>5</td>\n",
       "    </tr>\n",
       "    <tr>\n",
       "      <th>3</th>\n",
       "      <td>FOOD_AND_DRINK</td>\n",
       "      <td>4.107232571</td>\n",
       "      <td>389154</td>\n",
       "      <td>10,000,000+</td>\n",
       "      <td>0</td>\n",
       "      <td>16384.0</td>\n",
       "      <td>4</td>\n",
       "    </tr>\n",
       "    <tr>\n",
       "      <th>5</th>\n",
       "      <td>FOOD_AND_DRINK</td>\n",
       "      <td>3.82532239</td>\n",
       "      <td>2559</td>\n",
       "      <td>100,000+</td>\n",
       "      <td>0</td>\n",
       "      <td>23552.0</td>\n",
       "      <td>5</td>\n",
       "    </tr>\n",
       "    <tr>\n",
       "      <th>8</th>\n",
       "      <td>TRAVEL_AND_LOCAL</td>\n",
       "      <td>3.811764717</td>\n",
       "      <td>85</td>\n",
       "      <td>10,000+</td>\n",
       "      <td>0</td>\n",
       "      <td>4198.4</td>\n",
       "      <td>4</td>\n",
       "    </tr>\n",
       "    <tr>\n",
       "      <th>12</th>\n",
       "      <td>LIFESTYLE</td>\n",
       "      <td>3.213527918</td>\n",
       "      <td>754</td>\n",
       "      <td>100,000+</td>\n",
       "      <td>0</td>\n",
       "      <td>39936.0</td>\n",
       "      <td>5</td>\n",
       "    </tr>\n",
       "  </tbody>\n",
       "</table>\n",
       "</div>"
      ],
      "text/plain": [
       "            Category       Rating Reviews     Installs Price  size(Kb)  \\\n",
       "2           SHOPPING  3.656329393    1967     100,000+     0    1433.6   \n",
       "3     FOOD_AND_DRINK  4.107232571  389154  10,000,000+     0   16384.0   \n",
       "5     FOOD_AND_DRINK   3.82532239    2559     100,000+     0   23552.0   \n",
       "8   TRAVEL_AND_LOCAL  3.811764717      85      10,000+     0    4198.4   \n",
       "12         LIFESTYLE  3.213527918     754     100,000+     0   39936.0   \n",
       "\n",
       "    Minimum Version  \n",
       "2                 5  \n",
       "3                 4  \n",
       "5                 5  \n",
       "8                 4  \n",
       "12                5  "
      ]
     },
     "execution_count": 33,
     "metadata": {},
     "output_type": "execute_result"
    }
   ],
   "source": [
    "data.head()"
   ]
  },
  {
   "cell_type": "code",
   "execution_count": 34,
   "metadata": {
    "scrolled": true
   },
   "outputs": [
    {
     "data": {
      "text/plain": [
       "0        221523\n",
       "$0.99      1902\n",
       "$1.99      1257\n",
       "$2.99      1051\n",
       "$1.49       667\n",
       "Name: Price, dtype: int64"
      ]
     },
     "execution_count": 34,
     "metadata": {},
     "output_type": "execute_result"
    }
   ],
   "source": [
    "data['Price'].value_counts().head()"
   ]
  },
  {
   "cell_type": "code",
   "execution_count": 35,
   "metadata": {},
   "outputs": [],
   "source": [
    "# It  is clear from the above block that the data we are working with is \n",
    "# biased and we know that this biased data will hamper our prediction \n",
    "# hense we will be removing all the others except \"0\" row, resulting in\n",
    "# removing the biases hense then we will remove the column as this will \n",
    "# possess only one type of data"
   ]
  },
  {
   "cell_type": "code",
   "execution_count": 36,
   "metadata": {},
   "outputs": [],
   "source": [
    "data = data[data['Price']=='0']\n",
    "data.drop(columns={'Price'},inplace = True)"
   ]
  },
  {
   "cell_type": "code",
   "execution_count": 37,
   "metadata": {},
   "outputs": [
    {
     "data": {
      "text/html": [
       "<div>\n",
       "<style scoped>\n",
       "    .dataframe tbody tr th:only-of-type {\n",
       "        vertical-align: middle;\n",
       "    }\n",
       "\n",
       "    .dataframe tbody tr th {\n",
       "        vertical-align: top;\n",
       "    }\n",
       "\n",
       "    .dataframe thead th {\n",
       "        text-align: right;\n",
       "    }\n",
       "</style>\n",
       "<table border=\"1\" class=\"dataframe\">\n",
       "  <thead>\n",
       "    <tr style=\"text-align: right;\">\n",
       "      <th></th>\n",
       "      <th>Category</th>\n",
       "      <th>Rating</th>\n",
       "      <th>Reviews</th>\n",
       "      <th>Installs</th>\n",
       "      <th>size(Kb)</th>\n",
       "      <th>Minimum Version</th>\n",
       "    </tr>\n",
       "  </thead>\n",
       "  <tbody>\n",
       "    <tr>\n",
       "      <th>2</th>\n",
       "      <td>SHOPPING</td>\n",
       "      <td>3.656329393</td>\n",
       "      <td>1967</td>\n",
       "      <td>100,000+</td>\n",
       "      <td>1433.6</td>\n",
       "      <td>5</td>\n",
       "    </tr>\n",
       "    <tr>\n",
       "      <th>3</th>\n",
       "      <td>FOOD_AND_DRINK</td>\n",
       "      <td>4.107232571</td>\n",
       "      <td>389154</td>\n",
       "      <td>10,000,000+</td>\n",
       "      <td>16384.0</td>\n",
       "      <td>4</td>\n",
       "    </tr>\n",
       "    <tr>\n",
       "      <th>5</th>\n",
       "      <td>FOOD_AND_DRINK</td>\n",
       "      <td>3.82532239</td>\n",
       "      <td>2559</td>\n",
       "      <td>100,000+</td>\n",
       "      <td>23552.0</td>\n",
       "      <td>5</td>\n",
       "    </tr>\n",
       "    <tr>\n",
       "      <th>8</th>\n",
       "      <td>TRAVEL_AND_LOCAL</td>\n",
       "      <td>3.811764717</td>\n",
       "      <td>85</td>\n",
       "      <td>10,000+</td>\n",
       "      <td>4198.4</td>\n",
       "      <td>4</td>\n",
       "    </tr>\n",
       "    <tr>\n",
       "      <th>12</th>\n",
       "      <td>LIFESTYLE</td>\n",
       "      <td>3.213527918</td>\n",
       "      <td>754</td>\n",
       "      <td>100,000+</td>\n",
       "      <td>39936.0</td>\n",
       "      <td>5</td>\n",
       "    </tr>\n",
       "  </tbody>\n",
       "</table>\n",
       "</div>"
      ],
      "text/plain": [
       "            Category       Rating Reviews     Installs  size(Kb)  \\\n",
       "2           SHOPPING  3.656329393    1967     100,000+    1433.6   \n",
       "3     FOOD_AND_DRINK  4.107232571  389154  10,000,000+   16384.0   \n",
       "5     FOOD_AND_DRINK   3.82532239    2559     100,000+   23552.0   \n",
       "8   TRAVEL_AND_LOCAL  3.811764717      85      10,000+    4198.4   \n",
       "12         LIFESTYLE  3.213527918     754     100,000+   39936.0   \n",
       "\n",
       "    Minimum Version  \n",
       "2                 5  \n",
       "3                 4  \n",
       "5                 5  \n",
       "8                 4  \n",
       "12                5  "
      ]
     },
     "execution_count": 37,
     "metadata": {},
     "output_type": "execute_result"
    }
   ],
   "source": [
    "data.head()"
   ]
  },
  {
   "cell_type": "code",
   "execution_count": 38,
   "metadata": {},
   "outputs": [
    {
     "data": {
      "text/plain": [
       "(221523, 6)"
      ]
     },
     "execution_count": 38,
     "metadata": {},
     "output_type": "execute_result"
    }
   ],
   "source": [
    "data.shape"
   ]
  },
  {
   "cell_type": "code",
   "execution_count": 39,
   "metadata": {},
   "outputs": [
    {
     "data": {
      "text/plain": [
       "10,000+           51808\n",
       "1,000+            41759\n",
       "100,000+          31004\n",
       "5,000+            22603\n",
       "50,000+           19291\n",
       "100+              15003\n",
       "500+              11628\n",
       "1,000,000+         9300\n",
       "500,000+           7760\n",
       "10+                3517\n",
       "50+                3048\n",
       "5,000,000+         1874\n",
       "10,000,000+        1665\n",
       "5+                  548\n",
       "1+                  351\n",
       "50,000,000+         191\n",
       "100,000,000+        114\n",
       "0+                   47\n",
       "500,000,000+         10\n",
       "1,000,000,000+        2\n",
       "Name: Installs, dtype: int64"
      ]
     },
     "execution_count": 39,
     "metadata": {},
     "output_type": "execute_result"
    }
   ],
   "source": [
    "data['Installs'].value_counts()"
   ]
  },
  {
   "cell_type": "code",
   "execution_count": 40,
   "metadata": {},
   "outputs": [],
   "source": [
    "# To convert the above data into usable form we need to remove the last plus(+) symbol and then remove all the comas(,)\n",
    "# then convert the value in to its integer form."
   ]
  },
  {
   "cell_type": "code",
   "execution_count": 41,
   "metadata": {},
   "outputs": [],
   "source": [
    "install_values = data['Installs'].values\n",
    "install_values_refined = []\n",
    "for i in install_values:\n",
    "    i = i.replace(',','')\n",
    "    install_values_refined.append(int(i[:-1]))\n",
    "data.drop(columns={'Installs'},inplace=True)\n",
    "data['Installs'] = install_values_refined"
   ]
  },
  {
   "cell_type": "code",
   "execution_count": 42,
   "metadata": {},
   "outputs": [
    {
     "data": {
      "text/html": [
       "<div>\n",
       "<style scoped>\n",
       "    .dataframe tbody tr th:only-of-type {\n",
       "        vertical-align: middle;\n",
       "    }\n",
       "\n",
       "    .dataframe tbody tr th {\n",
       "        vertical-align: top;\n",
       "    }\n",
       "\n",
       "    .dataframe thead th {\n",
       "        text-align: right;\n",
       "    }\n",
       "</style>\n",
       "<table border=\"1\" class=\"dataframe\">\n",
       "  <thead>\n",
       "    <tr style=\"text-align: right;\">\n",
       "      <th></th>\n",
       "      <th>Category</th>\n",
       "      <th>Rating</th>\n",
       "      <th>Reviews</th>\n",
       "      <th>size(Kb)</th>\n",
       "      <th>Minimum Version</th>\n",
       "      <th>Installs</th>\n",
       "    </tr>\n",
       "  </thead>\n",
       "  <tbody>\n",
       "    <tr>\n",
       "      <th>2</th>\n",
       "      <td>SHOPPING</td>\n",
       "      <td>3.656329393</td>\n",
       "      <td>1967</td>\n",
       "      <td>1433.6</td>\n",
       "      <td>5</td>\n",
       "      <td>100000</td>\n",
       "    </tr>\n",
       "    <tr>\n",
       "      <th>3</th>\n",
       "      <td>FOOD_AND_DRINK</td>\n",
       "      <td>4.107232571</td>\n",
       "      <td>389154</td>\n",
       "      <td>16384.0</td>\n",
       "      <td>4</td>\n",
       "      <td>10000000</td>\n",
       "    </tr>\n",
       "    <tr>\n",
       "      <th>5</th>\n",
       "      <td>FOOD_AND_DRINK</td>\n",
       "      <td>3.82532239</td>\n",
       "      <td>2559</td>\n",
       "      <td>23552.0</td>\n",
       "      <td>5</td>\n",
       "      <td>100000</td>\n",
       "    </tr>\n",
       "    <tr>\n",
       "      <th>8</th>\n",
       "      <td>TRAVEL_AND_LOCAL</td>\n",
       "      <td>3.811764717</td>\n",
       "      <td>85</td>\n",
       "      <td>4198.4</td>\n",
       "      <td>4</td>\n",
       "      <td>10000</td>\n",
       "    </tr>\n",
       "    <tr>\n",
       "      <th>12</th>\n",
       "      <td>LIFESTYLE</td>\n",
       "      <td>3.213527918</td>\n",
       "      <td>754</td>\n",
       "      <td>39936.0</td>\n",
       "      <td>5</td>\n",
       "      <td>100000</td>\n",
       "    </tr>\n",
       "  </tbody>\n",
       "</table>\n",
       "</div>"
      ],
      "text/plain": [
       "            Category       Rating Reviews  size(Kb)  Minimum Version  Installs\n",
       "2           SHOPPING  3.656329393    1967    1433.6                5    100000\n",
       "3     FOOD_AND_DRINK  4.107232571  389154   16384.0                4  10000000\n",
       "5     FOOD_AND_DRINK   3.82532239    2559   23552.0                5    100000\n",
       "8   TRAVEL_AND_LOCAL  3.811764717      85    4198.4                4     10000\n",
       "12         LIFESTYLE  3.213527918     754   39936.0                5    100000"
      ]
     },
     "execution_count": 42,
     "metadata": {},
     "output_type": "execute_result"
    }
   ],
   "source": [
    "data.head()"
   ]
  },
  {
   "cell_type": "code",
   "execution_count": 43,
   "metadata": {},
   "outputs": [],
   "source": [
    "# Applications that are not installed by a minimum of 500 people are not so relevent\n",
    "# application so those applications are removed.\n",
    "\n",
    "data = data[data[\"Installs\"] > 500]"
   ]
  },
  {
   "cell_type": "code",
   "execution_count": 44,
   "metadata": {
    "scrolled": true
   },
   "outputs": [
    {
     "data": {
      "text/plain": [
       "6.0    1417\n",
       "9.0    1361\n",
       "8.0    1340\n",
       "7.0    1330\n",
       "5.0    1298\n",
       "Name: Reviews, dtype: int64"
      ]
     },
     "execution_count": 44,
     "metadata": {},
     "output_type": "execute_result"
    }
   ],
   "source": [
    "data['Reviews'].value_counts().head()"
   ]
  },
  {
   "cell_type": "code",
   "execution_count": null,
   "metadata": {},
   "outputs": [],
   "source": [
    "# Here all the data is present in strings so we need to convert them to equivalent integers."
   ]
  },
  {
   "cell_type": "code",
   "execution_count": null,
   "metadata": {},
   "outputs": [],
   "source": [
    "reviews_list = data['Reviews'].values\n",
    "reviews_list_integer_values = []\n",
    "for i in reviews_list:\n",
    "    reviews_list_integer_values.append(int(i))"
   ]
  },
  {
   "cell_type": "code",
   "execution_count": null,
   "metadata": {},
   "outputs": [],
   "source": [
    "data.drop(columns= {'Reviews'},inplace=True)\n",
    "data['Reviews'] = reviews_list_integer_values"
   ]
  },
  {
   "cell_type": "code",
   "execution_count": null,
   "metadata": {},
   "outputs": [
    {
     "data": {
      "text/html": [
       "<div>\n",
       "<style scoped>\n",
       "    .dataframe tbody tr th:only-of-type {\n",
       "        vertical-align: middle;\n",
       "    }\n",
       "\n",
       "    .dataframe tbody tr th {\n",
       "        vertical-align: top;\n",
       "    }\n",
       "\n",
       "    .dataframe thead th {\n",
       "        text-align: right;\n",
       "    }\n",
       "</style>\n",
       "<table border=\"1\" class=\"dataframe\">\n",
       "  <thead>\n",
       "    <tr style=\"text-align: right;\">\n",
       "      <th></th>\n",
       "      <th>Category</th>\n",
       "      <th>Rating</th>\n",
       "      <th>size(Kb)</th>\n",
       "      <th>Minimum Version</th>\n",
       "      <th>Installs</th>\n",
       "      <th>Reviews</th>\n",
       "    </tr>\n",
       "  </thead>\n",
       "  <tbody>\n",
       "    <tr>\n",
       "      <th>2</th>\n",
       "      <td>SHOPPING</td>\n",
       "      <td>3.656329393</td>\n",
       "      <td>1433.6</td>\n",
       "      <td>5</td>\n",
       "      <td>100000</td>\n",
       "      <td>1967</td>\n",
       "    </tr>\n",
       "    <tr>\n",
       "      <th>3</th>\n",
       "      <td>FOOD_AND_DRINK</td>\n",
       "      <td>4.107232571</td>\n",
       "      <td>16384.0</td>\n",
       "      <td>4</td>\n",
       "      <td>10000000</td>\n",
       "      <td>389154</td>\n",
       "    </tr>\n",
       "    <tr>\n",
       "      <th>5</th>\n",
       "      <td>FOOD_AND_DRINK</td>\n",
       "      <td>3.82532239</td>\n",
       "      <td>23552.0</td>\n",
       "      <td>5</td>\n",
       "      <td>100000</td>\n",
       "      <td>2559</td>\n",
       "    </tr>\n",
       "    <tr>\n",
       "      <th>8</th>\n",
       "      <td>TRAVEL_AND_LOCAL</td>\n",
       "      <td>3.811764717</td>\n",
       "      <td>4198.4</td>\n",
       "      <td>4</td>\n",
       "      <td>10000</td>\n",
       "      <td>85</td>\n",
       "    </tr>\n",
       "    <tr>\n",
       "      <th>12</th>\n",
       "      <td>LIFESTYLE</td>\n",
       "      <td>3.213527918</td>\n",
       "      <td>39936.0</td>\n",
       "      <td>5</td>\n",
       "      <td>100000</td>\n",
       "      <td>754</td>\n",
       "    </tr>\n",
       "  </tbody>\n",
       "</table>\n",
       "</div>"
      ],
      "text/plain": [
       "            Category       Rating  size(Kb)  Minimum Version  Installs  \\\n",
       "2           SHOPPING  3.656329393    1433.6                5    100000   \n",
       "3     FOOD_AND_DRINK  4.107232571   16384.0                4  10000000   \n",
       "5     FOOD_AND_DRINK   3.82532239   23552.0                5    100000   \n",
       "8   TRAVEL_AND_LOCAL  3.811764717    4198.4                4     10000   \n",
       "12         LIFESTYLE  3.213527918   39936.0                5    100000   \n",
       "\n",
       "    Reviews  \n",
       "2      1967  \n",
       "3    389154  \n",
       "5      2559  \n",
       "8        85  \n",
       "12      754  "
      ]
     },
     "execution_count": 48,
     "metadata": {},
     "output_type": "execute_result"
    }
   ],
   "source": [
    "data.head()"
   ]
  },
  {
   "cell_type": "code",
   "execution_count": null,
   "metadata": {},
   "outputs": [
    {
     "data": {
      "text/plain": [
       "(56463, 6)"
      ]
     },
     "execution_count": 49,
     "metadata": {},
     "output_type": "execute_result"
    }
   ],
   "source": [
    "# Applications that are not Reviewed by a minimum of 100 people are not so relevent\n",
    "# application so those applications are removed.\n",
    "\n",
    "data = data[data[\"Reviews\"]>500]\n",
    "data.shape"
   ]
  },
  {
   "cell_type": "code",
   "execution_count": null,
   "metadata": {},
   "outputs": [
    {
     "name": "stdout",
     "output_type": "stream",
     "text": [
      "<class 'pandas.core.frame.DataFrame'>\n",
      "Int64Index: 56463 entries, 2 to 267032\n",
      "Data columns (total 6 columns):\n",
      "Category           56463 non-null object\n",
      "Rating             56463 non-null object\n",
      "size(Kb)           56463 non-null float64\n",
      "Minimum Version    56463 non-null int64\n",
      "Installs           56463 non-null int64\n",
      "Reviews            56463 non-null int64\n",
      "dtypes: float64(1), int64(3), object(2)\n",
      "memory usage: 3.0+ MB\n"
     ]
    }
   ],
   "source": [
    "data.info()"
   ]
  },
  {
   "cell_type": "code",
   "execution_count": null,
   "metadata": {},
   "outputs": [
    {
     "data": {
      "text/html": [
       "<div>\n",
       "<style scoped>\n",
       "    .dataframe tbody tr th:only-of-type {\n",
       "        vertical-align: middle;\n",
       "    }\n",
       "\n",
       "    .dataframe tbody tr th {\n",
       "        vertical-align: top;\n",
       "    }\n",
       "\n",
       "    .dataframe thead th {\n",
       "        text-align: right;\n",
       "    }\n",
       "</style>\n",
       "<table border=\"1\" class=\"dataframe\">\n",
       "  <thead>\n",
       "    <tr style=\"text-align: right;\">\n",
       "      <th></th>\n",
       "      <th>Category</th>\n",
       "      <th>Rating</th>\n",
       "      <th>size(Kb)</th>\n",
       "      <th>Minimum Version</th>\n",
       "      <th>Installs</th>\n",
       "      <th>Reviews</th>\n",
       "    </tr>\n",
       "  </thead>\n",
       "  <tbody>\n",
       "    <tr>\n",
       "      <th>2</th>\n",
       "      <td>SHOPPING</td>\n",
       "      <td>3.656329393</td>\n",
       "      <td>1433.6</td>\n",
       "      <td>5</td>\n",
       "      <td>100000</td>\n",
       "      <td>1967</td>\n",
       "    </tr>\n",
       "    <tr>\n",
       "      <th>3</th>\n",
       "      <td>FOOD_AND_DRINK</td>\n",
       "      <td>4.107232571</td>\n",
       "      <td>16384.0</td>\n",
       "      <td>4</td>\n",
       "      <td>10000000</td>\n",
       "      <td>389154</td>\n",
       "    </tr>\n",
       "    <tr>\n",
       "      <th>5</th>\n",
       "      <td>FOOD_AND_DRINK</td>\n",
       "      <td>3.82532239</td>\n",
       "      <td>23552.0</td>\n",
       "      <td>5</td>\n",
       "      <td>100000</td>\n",
       "      <td>2559</td>\n",
       "    </tr>\n",
       "    <tr>\n",
       "      <th>12</th>\n",
       "      <td>LIFESTYLE</td>\n",
       "      <td>3.213527918</td>\n",
       "      <td>39936.0</td>\n",
       "      <td>5</td>\n",
       "      <td>100000</td>\n",
       "      <td>754</td>\n",
       "    </tr>\n",
       "    <tr>\n",
       "      <th>16</th>\n",
       "      <td>FOOD_AND_DRINK</td>\n",
       "      <td>4.374690533</td>\n",
       "      <td>19456.0</td>\n",
       "      <td>5</td>\n",
       "      <td>5000000</td>\n",
       "      <td>52526</td>\n",
       "    </tr>\n",
       "  </tbody>\n",
       "</table>\n",
       "</div>"
      ],
      "text/plain": [
       "          Category       Rating  size(Kb)  Minimum Version  Installs  Reviews\n",
       "2         SHOPPING  3.656329393    1433.6                5    100000     1967\n",
       "3   FOOD_AND_DRINK  4.107232571   16384.0                4  10000000   389154\n",
       "5   FOOD_AND_DRINK   3.82532239   23552.0                5    100000     2559\n",
       "12       LIFESTYLE  3.213527918   39936.0                5    100000      754\n",
       "16  FOOD_AND_DRINK  4.374690533   19456.0                5   5000000    52526"
      ]
     },
     "execution_count": 51,
     "metadata": {},
     "output_type": "execute_result"
    }
   ],
   "source": [
    "data.head()"
   ]
  },
  {
   "cell_type": "code",
   "execution_count": null,
   "metadata": {},
   "outputs": [],
   "source": [
    "# In rating column all the data is present in strings so we need to convert them to equivalent upto 4 digit\n",
    "# after dacimal place float numbers.\n",
    "# For that we will round them to 4th place ecimal numbers.\n",
    "# We are taking anly 4 digit after decimal because it will make our calculation easy."
   ]
  },
  {
   "cell_type": "code",
   "execution_count": null,
   "metadata": {},
   "outputs": [],
   "source": [
    "ratings_list = data['Rating'].values\n",
    "ratings_list1 = []\n",
    "for i in ratings_list:\n",
    "    ratings_list1.append(round(float(i),4))"
   ]
  },
  {
   "cell_type": "code",
   "execution_count": null,
   "metadata": {},
   "outputs": [],
   "source": [
    "data.drop(columns={'Rating'},inplace=True)\n",
    "data['Rating'] = ratings_list1"
   ]
  },
  {
   "cell_type": "code",
   "execution_count": null,
   "metadata": {},
   "outputs": [
    {
     "data": {
      "text/html": [
       "<div>\n",
       "<style scoped>\n",
       "    .dataframe tbody tr th:only-of-type {\n",
       "        vertical-align: middle;\n",
       "    }\n",
       "\n",
       "    .dataframe tbody tr th {\n",
       "        vertical-align: top;\n",
       "    }\n",
       "\n",
       "    .dataframe thead th {\n",
       "        text-align: right;\n",
       "    }\n",
       "</style>\n",
       "<table border=\"1\" class=\"dataframe\">\n",
       "  <thead>\n",
       "    <tr style=\"text-align: right;\">\n",
       "      <th></th>\n",
       "      <th>Category</th>\n",
       "      <th>size(Kb)</th>\n",
       "      <th>Minimum Version</th>\n",
       "      <th>Installs</th>\n",
       "      <th>Reviews</th>\n",
       "      <th>Rating</th>\n",
       "    </tr>\n",
       "  </thead>\n",
       "  <tbody>\n",
       "    <tr>\n",
       "      <th>2</th>\n",
       "      <td>SHOPPING</td>\n",
       "      <td>1433.6</td>\n",
       "      <td>5</td>\n",
       "      <td>100000</td>\n",
       "      <td>1967</td>\n",
       "      <td>3.6563</td>\n",
       "    </tr>\n",
       "    <tr>\n",
       "      <th>3</th>\n",
       "      <td>FOOD_AND_DRINK</td>\n",
       "      <td>16384.0</td>\n",
       "      <td>4</td>\n",
       "      <td>10000000</td>\n",
       "      <td>389154</td>\n",
       "      <td>4.1072</td>\n",
       "    </tr>\n",
       "    <tr>\n",
       "      <th>5</th>\n",
       "      <td>FOOD_AND_DRINK</td>\n",
       "      <td>23552.0</td>\n",
       "      <td>5</td>\n",
       "      <td>100000</td>\n",
       "      <td>2559</td>\n",
       "      <td>3.8253</td>\n",
       "    </tr>\n",
       "    <tr>\n",
       "      <th>12</th>\n",
       "      <td>LIFESTYLE</td>\n",
       "      <td>39936.0</td>\n",
       "      <td>5</td>\n",
       "      <td>100000</td>\n",
       "      <td>754</td>\n",
       "      <td>3.2135</td>\n",
       "    </tr>\n",
       "    <tr>\n",
       "      <th>16</th>\n",
       "      <td>FOOD_AND_DRINK</td>\n",
       "      <td>19456.0</td>\n",
       "      <td>5</td>\n",
       "      <td>5000000</td>\n",
       "      <td>52526</td>\n",
       "      <td>4.3747</td>\n",
       "    </tr>\n",
       "  </tbody>\n",
       "</table>\n",
       "</div>"
      ],
      "text/plain": [
       "          Category  size(Kb)  Minimum Version  Installs  Reviews  Rating\n",
       "2         SHOPPING    1433.6                5    100000     1967  3.6563\n",
       "3   FOOD_AND_DRINK   16384.0                4  10000000   389154  4.1072\n",
       "5   FOOD_AND_DRINK   23552.0                5    100000     2559  3.8253\n",
       "12       LIFESTYLE   39936.0                5    100000      754  3.2135\n",
       "16  FOOD_AND_DRINK   19456.0                5   5000000    52526  4.3747"
      ]
     },
     "execution_count": 55,
     "metadata": {},
     "output_type": "execute_result"
    }
   ],
   "source": [
    "data.head()"
   ]
  },
  {
   "cell_type": "code",
   "execution_count": null,
   "metadata": {},
   "outputs": [
    {
     "name": "stdout",
     "output_type": "stream",
     "text": [
      "<class 'pandas.core.frame.DataFrame'>\n",
      "Int64Index: 56463 entries, 2 to 267032\n",
      "Data columns (total 6 columns):\n",
      "Category           56463 non-null object\n",
      "size(Kb)           56463 non-null float64\n",
      "Minimum Version    56463 non-null int64\n",
      "Installs           56463 non-null int64\n",
      "Reviews            56463 non-null int64\n",
      "Rating             56463 non-null float64\n",
      "dtypes: float64(2), int64(3), object(1)\n",
      "memory usage: 3.0+ MB\n"
     ]
    }
   ],
   "source": [
    "data.info()"
   ]
  },
  {
   "cell_type": "code",
   "execution_count": null,
   "metadata": {
    "scrolled": true
   },
   "outputs": [
    {
     "data": {
      "text/plain": [
       "TOOLS                  5748\n",
       "EDUCATION              5401\n",
       "BOOKS_AND_REFERENCE    3774\n",
       "ENTERTAINMENT          3729\n",
       "FINANCE                3075\n",
       "LIFESTYLE              3027\n",
       "PERSONALIZATION        3018\n",
       "MUSIC_AND_AUDIO        3008\n",
       "PHOTOGRAPHY            2464\n",
       "PRODUCTIVITY           1997\n",
       "Name: Category, dtype: int64"
      ]
     },
     "execution_count": 57,
     "metadata": {},
     "output_type": "execute_result"
    }
   ],
   "source": [
    "data['Category'].value_counts().head(10)"
   ]
  },
  {
   "cell_type": "code",
   "execution_count": null,
   "metadata": {},
   "outputs": [
    {
     "data": {
      "text/plain": [
       "49"
      ]
     },
     "execution_count": 58,
     "metadata": {},
     "output_type": "execute_result"
    }
   ],
   "source": [
    "len(data['Category'].value_counts())"
   ]
  },
  {
   "cell_type": "code",
   "execution_count": null,
   "metadata": {},
   "outputs": [],
   "source": [
    "# as this column is important we will be making 50 new columns and if the application is in the\n",
    "# column's category then the entry will be \"1\" else it will be 0."
   ]
  },
  {
   "cell_type": "code",
   "execution_count": null,
   "metadata": {},
   "outputs": [],
   "source": [
    "category_index = data['Category'].value_counts().index"
   ]
  },
  {
   "cell_type": "code",
   "execution_count": null,
   "metadata": {},
   "outputs": [],
   "source": [
    "long_category_array = []\n",
    "for i in data['Category']:\n",
    "    one_in_which_column = []\n",
    "    for j in category_index:\n",
    "        if i == j:\n",
    "            one_in_which_column.append(1)\n",
    "        else:\n",
    "            one_in_which_column.append(0)\n",
    "    long_category_array.append(one_in_which_column)"
   ]
  },
  {
   "cell_type": "code",
   "execution_count": null,
   "metadata": {},
   "outputs": [],
   "source": [
    "# Transfering the array in to numpy array to be abel to merge with the Detabase.\n",
    "long_category_array = np.array(long_category_array)"
   ]
  },
  {
   "cell_type": "code",
   "execution_count": null,
   "metadata": {},
   "outputs": [],
   "source": [
    "for i in range(len(category_index)):\n",
    "    data[category_index[i]] = long_category_array[:,i]"
   ]
  },
  {
   "cell_type": "code",
   "execution_count": null,
   "metadata": {},
   "outputs": [
    {
     "data": {
      "text/html": [
       "<div>\n",
       "<style scoped>\n",
       "    .dataframe tbody tr th:only-of-type {\n",
       "        vertical-align: middle;\n",
       "    }\n",
       "\n",
       "    .dataframe tbody tr th {\n",
       "        vertical-align: top;\n",
       "    }\n",
       "\n",
       "    .dataframe thead th {\n",
       "        text-align: right;\n",
       "    }\n",
       "</style>\n",
       "<table border=\"1\" class=\"dataframe\">\n",
       "  <thead>\n",
       "    <tr style=\"text-align: right;\">\n",
       "      <th></th>\n",
       "      <th>Category</th>\n",
       "      <th>size(Kb)</th>\n",
       "      <th>Minimum Version</th>\n",
       "      <th>Installs</th>\n",
       "      <th>Reviews</th>\n",
       "      <th>Rating</th>\n",
       "      <th>TOOLS</th>\n",
       "      <th>EDUCATION</th>\n",
       "      <th>BOOKS_AND_REFERENCE</th>\n",
       "      <th>ENTERTAINMENT</th>\n",
       "      <th>...</th>\n",
       "      <th>GAME_STRATEGY</th>\n",
       "      <th>PARENTING</th>\n",
       "      <th>HOUSE_AND_HOME</th>\n",
       "      <th>BEAUTY</th>\n",
       "      <th>LIBRARIES_AND_DEMO</th>\n",
       "      <th>GAME_MUSIC</th>\n",
       "      <th>COMICS</th>\n",
       "      <th>EVENTS</th>\n",
       "      <th>DATING</th>\n",
       "      <th>GAME_CASINO</th>\n",
       "    </tr>\n",
       "  </thead>\n",
       "  <tbody>\n",
       "    <tr>\n",
       "      <th>2</th>\n",
       "      <td>SHOPPING</td>\n",
       "      <td>1433.6</td>\n",
       "      <td>5</td>\n",
       "      <td>100000</td>\n",
       "      <td>1967</td>\n",
       "      <td>3.6563</td>\n",
       "      <td>0</td>\n",
       "      <td>0</td>\n",
       "      <td>0</td>\n",
       "      <td>0</td>\n",
       "      <td>...</td>\n",
       "      <td>0</td>\n",
       "      <td>0</td>\n",
       "      <td>0</td>\n",
       "      <td>0</td>\n",
       "      <td>0</td>\n",
       "      <td>0</td>\n",
       "      <td>0</td>\n",
       "      <td>0</td>\n",
       "      <td>0</td>\n",
       "      <td>0</td>\n",
       "    </tr>\n",
       "    <tr>\n",
       "      <th>3</th>\n",
       "      <td>FOOD_AND_DRINK</td>\n",
       "      <td>16384.0</td>\n",
       "      <td>4</td>\n",
       "      <td>10000000</td>\n",
       "      <td>389154</td>\n",
       "      <td>4.1072</td>\n",
       "      <td>0</td>\n",
       "      <td>0</td>\n",
       "      <td>0</td>\n",
       "      <td>0</td>\n",
       "      <td>...</td>\n",
       "      <td>0</td>\n",
       "      <td>0</td>\n",
       "      <td>0</td>\n",
       "      <td>0</td>\n",
       "      <td>0</td>\n",
       "      <td>0</td>\n",
       "      <td>0</td>\n",
       "      <td>0</td>\n",
       "      <td>0</td>\n",
       "      <td>0</td>\n",
       "    </tr>\n",
       "    <tr>\n",
       "      <th>5</th>\n",
       "      <td>FOOD_AND_DRINK</td>\n",
       "      <td>23552.0</td>\n",
       "      <td>5</td>\n",
       "      <td>100000</td>\n",
       "      <td>2559</td>\n",
       "      <td>3.8253</td>\n",
       "      <td>0</td>\n",
       "      <td>0</td>\n",
       "      <td>0</td>\n",
       "      <td>0</td>\n",
       "      <td>...</td>\n",
       "      <td>0</td>\n",
       "      <td>0</td>\n",
       "      <td>0</td>\n",
       "      <td>0</td>\n",
       "      <td>0</td>\n",
       "      <td>0</td>\n",
       "      <td>0</td>\n",
       "      <td>0</td>\n",
       "      <td>0</td>\n",
       "      <td>0</td>\n",
       "    </tr>\n",
       "    <tr>\n",
       "      <th>12</th>\n",
       "      <td>LIFESTYLE</td>\n",
       "      <td>39936.0</td>\n",
       "      <td>5</td>\n",
       "      <td>100000</td>\n",
       "      <td>754</td>\n",
       "      <td>3.2135</td>\n",
       "      <td>0</td>\n",
       "      <td>0</td>\n",
       "      <td>0</td>\n",
       "      <td>0</td>\n",
       "      <td>...</td>\n",
       "      <td>0</td>\n",
       "      <td>0</td>\n",
       "      <td>0</td>\n",
       "      <td>0</td>\n",
       "      <td>0</td>\n",
       "      <td>0</td>\n",
       "      <td>0</td>\n",
       "      <td>0</td>\n",
       "      <td>0</td>\n",
       "      <td>0</td>\n",
       "    </tr>\n",
       "    <tr>\n",
       "      <th>16</th>\n",
       "      <td>FOOD_AND_DRINK</td>\n",
       "      <td>19456.0</td>\n",
       "      <td>5</td>\n",
       "      <td>5000000</td>\n",
       "      <td>52526</td>\n",
       "      <td>4.3747</td>\n",
       "      <td>0</td>\n",
       "      <td>0</td>\n",
       "      <td>0</td>\n",
       "      <td>0</td>\n",
       "      <td>...</td>\n",
       "      <td>0</td>\n",
       "      <td>0</td>\n",
       "      <td>0</td>\n",
       "      <td>0</td>\n",
       "      <td>0</td>\n",
       "      <td>0</td>\n",
       "      <td>0</td>\n",
       "      <td>0</td>\n",
       "      <td>0</td>\n",
       "      <td>0</td>\n",
       "    </tr>\n",
       "  </tbody>\n",
       "</table>\n",
       "<p>5 rows × 55 columns</p>\n",
       "</div>"
      ],
      "text/plain": [
       "          Category  size(Kb)  Minimum Version  Installs  Reviews  Rating  \\\n",
       "2         SHOPPING    1433.6                5    100000     1967  3.6563   \n",
       "3   FOOD_AND_DRINK   16384.0                4  10000000   389154  4.1072   \n",
       "5   FOOD_AND_DRINK   23552.0                5    100000     2559  3.8253   \n",
       "12       LIFESTYLE   39936.0                5    100000      754  3.2135   \n",
       "16  FOOD_AND_DRINK   19456.0                5   5000000    52526  4.3747   \n",
       "\n",
       "    TOOLS  EDUCATION  BOOKS_AND_REFERENCE  ENTERTAINMENT     ...       \\\n",
       "2       0          0                    0              0     ...        \n",
       "3       0          0                    0              0     ...        \n",
       "5       0          0                    0              0     ...        \n",
       "12      0          0                    0              0     ...        \n",
       "16      0          0                    0              0     ...        \n",
       "\n",
       "    GAME_STRATEGY  PARENTING  HOUSE_AND_HOME  BEAUTY  LIBRARIES_AND_DEMO  \\\n",
       "2               0          0               0       0                   0   \n",
       "3               0          0               0       0                   0   \n",
       "5               0          0               0       0                   0   \n",
       "12              0          0               0       0                   0   \n",
       "16              0          0               0       0                   0   \n",
       "\n",
       "    GAME_MUSIC  COMICS  EVENTS  DATING  GAME_CASINO  \n",
       "2            0       0       0       0            0  \n",
       "3            0       0       0       0            0  \n",
       "5            0       0       0       0            0  \n",
       "12           0       0       0       0            0  \n",
       "16           0       0       0       0            0  \n",
       "\n",
       "[5 rows x 55 columns]"
      ]
     },
     "execution_count": 64,
     "metadata": {},
     "output_type": "execute_result"
    }
   ],
   "source": [
    "data.head()"
   ]
  },
  {
   "cell_type": "code",
   "execution_count": null,
   "metadata": {},
   "outputs": [],
   "source": [
    "data.drop(columns={\"Category\"},inplace=True)"
   ]
  },
  {
   "cell_type": "code",
   "execution_count": null,
   "metadata": {},
   "outputs": [],
   "source": [
    "# Now we will be removing one column from the Category related columns because our machine learning\n",
    "# algorithm will establish a relation between them which in turn will hamper our results."
   ]
  },
  {
   "cell_type": "code",
   "execution_count": null,
   "metadata": {},
   "outputs": [],
   "source": [
    "data.drop(columns={\"EDUCATION\"},inplace=True)"
   ]
  },
  {
   "cell_type": "code",
   "execution_count": null,
   "metadata": {
    "scrolled": false
   },
   "outputs": [
    {
     "name": "stdout",
     "output_type": "stream",
     "text": [
      "<class 'pandas.core.frame.DataFrame'>\n",
      "Int64Index: 56463 entries, 2 to 267032\n",
      "Data columns (total 53 columns):\n",
      "size(Kb)               56463 non-null float64\n",
      "Minimum Version        56463 non-null int64\n",
      "Installs               56463 non-null int64\n",
      "Reviews                56463 non-null int64\n",
      "Rating                 56463 non-null float64\n",
      "TOOLS                  56463 non-null int32\n",
      "BOOKS_AND_REFERENCE    56463 non-null int32\n",
      "ENTERTAINMENT          56463 non-null int32\n",
      "FINANCE                56463 non-null int32\n",
      "LIFESTYLE              56463 non-null int32\n",
      "PERSONALIZATION        56463 non-null int32\n",
      "MUSIC_AND_AUDIO        56463 non-null int32\n",
      "PHOTOGRAPHY            56463 non-null int32\n",
      "PRODUCTIVITY           56463 non-null int32\n",
      "HEALTH_AND_FITNESS     56463 non-null int32\n",
      "TRAVEL_AND_LOCAL       56463 non-null int32\n",
      "NEWS_AND_MAGAZINES     56463 non-null int32\n",
      "SHOPPING               56463 non-null int32\n",
      "GAME_PUZZLE            56463 non-null int32\n",
      "BUSINESS               56463 non-null int32\n",
      "SPORTS                 56463 non-null int32\n",
      "COMMUNICATION          56463 non-null int32\n",
      "MAPS_AND_NAVIGATION    56463 non-null int32\n",
      "GAME_CASUAL            56463 non-null int32\n",
      "VIDEO_PLAYERS          56463 non-null int32\n",
      "GAME_SIMULATION        56463 non-null int32\n",
      "GAME_ARCADE            56463 non-null int32\n",
      "GAME_EDUCATIONAL       56463 non-null int32\n",
      "WEATHER                56463 non-null int32\n",
      "SOCIAL                 56463 non-null int32\n",
      "MEDICAL                56463 non-null int32\n",
      "GAME_WORD              56463 non-null int32\n",
      "FOOD_AND_DRINK         56463 non-null int32\n",
      "AUTO_AND_VEHICLES      56463 non-null int32\n",
      "GAME_CARD              56463 non-null int32\n",
      "GAME_RACING            56463 non-null int32\n",
      "GAME_SPORTS            56463 non-null int32\n",
      "GAME_BOARD             56463 non-null int32\n",
      "ART_AND_DESIGN         56463 non-null int32\n",
      "GAME_ACTION            56463 non-null int32\n",
      "GAME_TRIVIA            56463 non-null int32\n",
      "GAME_ADVENTURE         56463 non-null int32\n",
      "GAME_ROLE_PLAYING      56463 non-null int32\n",
      "GAME_STRATEGY          56463 non-null int32\n",
      "PARENTING              56463 non-null int32\n",
      "HOUSE_AND_HOME         56463 non-null int32\n",
      "BEAUTY                 56463 non-null int32\n",
      "LIBRARIES_AND_DEMO     56463 non-null int32\n",
      "GAME_MUSIC             56463 non-null int32\n",
      "COMICS                 56463 non-null int32\n",
      "EVENTS                 56463 non-null int32\n",
      "DATING                 56463 non-null int32\n",
      "GAME_CASINO            56463 non-null int32\n",
      "dtypes: float64(2), int32(48), int64(3)\n",
      "memory usage: 12.9 MB\n"
     ]
    }
   ],
   "source": [
    "data.info()"
   ]
  },
  {
   "cell_type": "code",
   "execution_count": null,
   "metadata": {},
   "outputs": [
    {
     "data": {
      "text/plain": [
       "(56463, 53)"
      ]
     },
     "execution_count": 69,
     "metadata": {},
     "output_type": "execute_result"
    }
   ],
   "source": [
    "data.shape"
   ]
  },
  {
   "cell_type": "markdown",
   "metadata": {},
   "source": [
    "# NOW OUR DATABASE IS READY TO BE USED BY MACHINE LEARNING ALGORITHMS"
   ]
  },
  {
   "cell_type": "code",
   "execution_count": null,
   "metadata": {},
   "outputs": [],
   "source": [
    "# As we are going to predict the value of rating of a given application we will now divide\n",
    "# the data for training and then divide the data for train and test. "
   ]
  },
  {
   "cell_type": "code",
   "execution_count": null,
   "metadata": {},
   "outputs": [
    {
     "data": {
      "text/html": [
       "<div>\n",
       "<style scoped>\n",
       "    .dataframe tbody tr th:only-of-type {\n",
       "        vertical-align: middle;\n",
       "    }\n",
       "\n",
       "    .dataframe tbody tr th {\n",
       "        vertical-align: top;\n",
       "    }\n",
       "\n",
       "    .dataframe thead th {\n",
       "        text-align: right;\n",
       "    }\n",
       "</style>\n",
       "<table border=\"1\" class=\"dataframe\">\n",
       "  <thead>\n",
       "    <tr style=\"text-align: right;\">\n",
       "      <th></th>\n",
       "      <th>size(Kb)</th>\n",
       "      <th>Minimum Version</th>\n",
       "      <th>Installs</th>\n",
       "      <th>Reviews</th>\n",
       "      <th>Rating</th>\n",
       "      <th>TOOLS</th>\n",
       "      <th>BOOKS_AND_REFERENCE</th>\n",
       "      <th>ENTERTAINMENT</th>\n",
       "      <th>FINANCE</th>\n",
       "      <th>LIFESTYLE</th>\n",
       "      <th>...</th>\n",
       "      <th>GAME_STRATEGY</th>\n",
       "      <th>PARENTING</th>\n",
       "      <th>HOUSE_AND_HOME</th>\n",
       "      <th>BEAUTY</th>\n",
       "      <th>LIBRARIES_AND_DEMO</th>\n",
       "      <th>GAME_MUSIC</th>\n",
       "      <th>COMICS</th>\n",
       "      <th>EVENTS</th>\n",
       "      <th>DATING</th>\n",
       "      <th>GAME_CASINO</th>\n",
       "    </tr>\n",
       "  </thead>\n",
       "  <tbody>\n",
       "    <tr>\n",
       "      <th>2</th>\n",
       "      <td>1433.6</td>\n",
       "      <td>5</td>\n",
       "      <td>100000</td>\n",
       "      <td>1967</td>\n",
       "      <td>3.6563</td>\n",
       "      <td>0</td>\n",
       "      <td>0</td>\n",
       "      <td>0</td>\n",
       "      <td>0</td>\n",
       "      <td>0</td>\n",
       "      <td>...</td>\n",
       "      <td>0</td>\n",
       "      <td>0</td>\n",
       "      <td>0</td>\n",
       "      <td>0</td>\n",
       "      <td>0</td>\n",
       "      <td>0</td>\n",
       "      <td>0</td>\n",
       "      <td>0</td>\n",
       "      <td>0</td>\n",
       "      <td>0</td>\n",
       "    </tr>\n",
       "    <tr>\n",
       "      <th>3</th>\n",
       "      <td>16384.0</td>\n",
       "      <td>4</td>\n",
       "      <td>10000000</td>\n",
       "      <td>389154</td>\n",
       "      <td>4.1072</td>\n",
       "      <td>0</td>\n",
       "      <td>0</td>\n",
       "      <td>0</td>\n",
       "      <td>0</td>\n",
       "      <td>0</td>\n",
       "      <td>...</td>\n",
       "      <td>0</td>\n",
       "      <td>0</td>\n",
       "      <td>0</td>\n",
       "      <td>0</td>\n",
       "      <td>0</td>\n",
       "      <td>0</td>\n",
       "      <td>0</td>\n",
       "      <td>0</td>\n",
       "      <td>0</td>\n",
       "      <td>0</td>\n",
       "    </tr>\n",
       "    <tr>\n",
       "      <th>5</th>\n",
       "      <td>23552.0</td>\n",
       "      <td>5</td>\n",
       "      <td>100000</td>\n",
       "      <td>2559</td>\n",
       "      <td>3.8253</td>\n",
       "      <td>0</td>\n",
       "      <td>0</td>\n",
       "      <td>0</td>\n",
       "      <td>0</td>\n",
       "      <td>0</td>\n",
       "      <td>...</td>\n",
       "      <td>0</td>\n",
       "      <td>0</td>\n",
       "      <td>0</td>\n",
       "      <td>0</td>\n",
       "      <td>0</td>\n",
       "      <td>0</td>\n",
       "      <td>0</td>\n",
       "      <td>0</td>\n",
       "      <td>0</td>\n",
       "      <td>0</td>\n",
       "    </tr>\n",
       "    <tr>\n",
       "      <th>12</th>\n",
       "      <td>39936.0</td>\n",
       "      <td>5</td>\n",
       "      <td>100000</td>\n",
       "      <td>754</td>\n",
       "      <td>3.2135</td>\n",
       "      <td>0</td>\n",
       "      <td>0</td>\n",
       "      <td>0</td>\n",
       "      <td>0</td>\n",
       "      <td>1</td>\n",
       "      <td>...</td>\n",
       "      <td>0</td>\n",
       "      <td>0</td>\n",
       "      <td>0</td>\n",
       "      <td>0</td>\n",
       "      <td>0</td>\n",
       "      <td>0</td>\n",
       "      <td>0</td>\n",
       "      <td>0</td>\n",
       "      <td>0</td>\n",
       "      <td>0</td>\n",
       "    </tr>\n",
       "    <tr>\n",
       "      <th>16</th>\n",
       "      <td>19456.0</td>\n",
       "      <td>5</td>\n",
       "      <td>5000000</td>\n",
       "      <td>52526</td>\n",
       "      <td>4.3747</td>\n",
       "      <td>0</td>\n",
       "      <td>0</td>\n",
       "      <td>0</td>\n",
       "      <td>0</td>\n",
       "      <td>0</td>\n",
       "      <td>...</td>\n",
       "      <td>0</td>\n",
       "      <td>0</td>\n",
       "      <td>0</td>\n",
       "      <td>0</td>\n",
       "      <td>0</td>\n",
       "      <td>0</td>\n",
       "      <td>0</td>\n",
       "      <td>0</td>\n",
       "      <td>0</td>\n",
       "      <td>0</td>\n",
       "    </tr>\n",
       "  </tbody>\n",
       "</table>\n",
       "<p>5 rows × 53 columns</p>\n",
       "</div>"
      ],
      "text/plain": [
       "    size(Kb)  Minimum Version  Installs  Reviews  Rating  TOOLS  \\\n",
       "2     1433.6                5    100000     1967  3.6563      0   \n",
       "3    16384.0                4  10000000   389154  4.1072      0   \n",
       "5    23552.0                5    100000     2559  3.8253      0   \n",
       "12   39936.0                5    100000      754  3.2135      0   \n",
       "16   19456.0                5   5000000    52526  4.3747      0   \n",
       "\n",
       "    BOOKS_AND_REFERENCE  ENTERTAINMENT  FINANCE  LIFESTYLE     ...       \\\n",
       "2                     0              0        0          0     ...        \n",
       "3                     0              0        0          0     ...        \n",
       "5                     0              0        0          0     ...        \n",
       "12                    0              0        0          1     ...        \n",
       "16                    0              0        0          0     ...        \n",
       "\n",
       "    GAME_STRATEGY  PARENTING  HOUSE_AND_HOME  BEAUTY  LIBRARIES_AND_DEMO  \\\n",
       "2               0          0               0       0                   0   \n",
       "3               0          0               0       0                   0   \n",
       "5               0          0               0       0                   0   \n",
       "12              0          0               0       0                   0   \n",
       "16              0          0               0       0                   0   \n",
       "\n",
       "    GAME_MUSIC  COMICS  EVENTS  DATING  GAME_CASINO  \n",
       "2            0       0       0       0            0  \n",
       "3            0       0       0       0            0  \n",
       "5            0       0       0       0            0  \n",
       "12           0       0       0       0            0  \n",
       "16           0       0       0       0            0  \n",
       "\n",
       "[5 rows x 53 columns]"
      ]
     },
     "execution_count": 71,
     "metadata": {},
     "output_type": "execute_result"
    }
   ],
   "source": [
    "data.head()"
   ]
  },
  {
   "cell_type": "code",
   "execution_count": null,
   "metadata": {},
   "outputs": [
    {
     "data": {
      "text/plain": [
       "(56463, 53)"
      ]
     },
     "execution_count": 72,
     "metadata": {},
     "output_type": "execute_result"
    }
   ],
   "source": [
    "data.shape"
   ]
  },
  {
   "cell_type": "code",
   "execution_count": null,
   "metadata": {},
   "outputs": [],
   "source": [
    "y = data.iloc[:,4]"
   ]
  },
  {
   "cell_type": "code",
   "execution_count": null,
   "metadata": {},
   "outputs": [],
   "source": [
    "# Now we will drop the Rating column and take the whole dataframe as x"
   ]
  },
  {
   "cell_type": "code",
   "execution_count": null,
   "metadata": {},
   "outputs": [],
   "source": [
    "dataframe_for_x = data.drop(columns={\"Rating\"})"
   ]
  },
  {
   "cell_type": "code",
   "execution_count": null,
   "metadata": {},
   "outputs": [],
   "source": [
    "x = dataframe_for_x.iloc[:,:]"
   ]
  },
  {
   "cell_type": "code",
   "execution_count": null,
   "metadata": {},
   "outputs": [
    {
     "data": {
      "text/plain": [
       "(56463, 52)"
      ]
     },
     "execution_count": 77,
     "metadata": {},
     "output_type": "execute_result"
    }
   ],
   "source": [
    "x.shape"
   ]
  },
  {
   "cell_type": "code",
   "execution_count": null,
   "metadata": {},
   "outputs": [
    {
     "data": {
      "text/plain": [
       "(56463,)"
      ]
     },
     "execution_count": 78,
     "metadata": {},
     "output_type": "execute_result"
    }
   ],
   "source": [
    "y.shape"
   ]
  },
  {
   "cell_type": "code",
   "execution_count": null,
   "metadata": {},
   "outputs": [],
   "source": [
    "# Now we will devide the above data into train data and test data train_test_split function."
   ]
  },
  {
   "cell_type": "code",
   "execution_count": null,
   "metadata": {},
   "outputs": [],
   "source": [
    "from sklearn.model_selection import train_test_split\n",
    "x_train,x_test,y_train,y_test = train_test_split(x,y,test_size=0.2,random_state = 7)"
   ]
  },
  {
   "cell_type": "code",
   "execution_count": null,
   "metadata": {},
   "outputs": [],
   "source": [
    "# Now we will be using this data into various Regression Algorithms."
   ]
  },
  {
   "cell_type": "markdown",
   "metadata": {},
   "source": [
    "# LinearRegression"
   ]
  },
  {
   "cell_type": "code",
   "execution_count": null,
   "metadata": {},
   "outputs": [],
   "source": [
    "from sklearn.linear_model import LinearRegression\n",
    "regressor = LinearRegression()"
   ]
  },
  {
   "cell_type": "code",
   "execution_count": null,
   "metadata": {},
   "outputs": [],
   "source": [
    "regressor.fit(x_train,y_train)"
   ]
  },
  {
   "cell_type": "code",
   "execution_count": null,
   "metadata": {},
   "outputs": [],
   "source": [
    "y_pred = regressor.predict(x_test)"
   ]
  },
  {
   "cell_type": "code",
   "execution_count": null,
   "metadata": {},
   "outputs": [],
   "source": [
    "from  sklearn.metrics import r2_score"
   ]
  },
  {
   "cell_type": "code",
   "execution_count": null,
   "metadata": {},
   "outputs": [],
   "source": [
    "r2_score(y_test,y_pred)"
   ]
  },
  {
   "cell_type": "code",
   "execution_count": null,
   "metadata": {},
   "outputs": [],
   "source": []
  },
  {
   "cell_type": "markdown",
   "metadata": {},
   "source": [
    "# LinearRegression with whole number Rating"
   ]
  },
  {
   "cell_type": "code",
   "execution_count": null,
   "metadata": {},
   "outputs": [],
   "source": [
    "y_whole = round(y)"
   ]
  },
  {
   "cell_type": "code",
   "execution_count": null,
   "metadata": {},
   "outputs": [],
   "source": [
    "x_whole_train,x_whole_test,y_whole_train,y_whole_test = train_test_split(x,y_whole,test_size=0.2,random_state = 7)"
   ]
  },
  {
   "cell_type": "code",
   "execution_count": null,
   "metadata": {},
   "outputs": [],
   "source": [
    "regressor.fit(x_whole_train,y_whole_train)"
   ]
  },
  {
   "cell_type": "code",
   "execution_count": null,
   "metadata": {},
   "outputs": [],
   "source": [
    "y_whole_LR_pred = regressor.predict(x_whole_test)"
   ]
  },
  {
   "cell_type": "code",
   "execution_count": null,
   "metadata": {},
   "outputs": [],
   "source": [
    "r2_score(y_whole_test,y_whole_LR_pred)"
   ]
  },
  {
   "cell_type": "code",
   "execution_count": null,
   "metadata": {},
   "outputs": [],
   "source": []
  },
  {
   "cell_type": "markdown",
   "metadata": {},
   "source": [
    "# RandomForestRegressor"
   ]
  },
  {
   "cell_type": "code",
   "execution_count": null,
   "metadata": {},
   "outputs": [],
   "source": [
    "from sklearn.ensemble import RandomForestRegressor\n",
    "regressor1=RandomForestRegressor(n_estimators=100,max_features=3,min_samples_leaf=10)"
   ]
  },
  {
   "cell_type": "code",
   "execution_count": null,
   "metadata": {},
   "outputs": [],
   "source": [
    "regressor1.fit(x_train,y_train)"
   ]
  },
  {
   "cell_type": "code",
   "execution_count": null,
   "metadata": {},
   "outputs": [],
   "source": [
    "y_RFR_pred=regressor1.predict(x_test)"
   ]
  },
  {
   "cell_type": "code",
   "execution_count": null,
   "metadata": {},
   "outputs": [],
   "source": [
    "r2_score(y_test,y_RFR_pred)"
   ]
  },
  {
   "cell_type": "code",
   "execution_count": null,
   "metadata": {},
   "outputs": [],
   "source": []
  },
  {
   "cell_type": "markdown",
   "metadata": {},
   "source": [
    "# RandomForestRegressor with whole number Rating"
   ]
  },
  {
   "cell_type": "code",
   "execution_count": null,
   "metadata": {},
   "outputs": [],
   "source": [
    "regressor1.fit(x_whole_train,y_whole_train)"
   ]
  },
  {
   "cell_type": "code",
   "execution_count": null,
   "metadata": {},
   "outputs": [],
   "source": [
    "y_RFR_whole_pred=regressor1.predict(x_whole_test)"
   ]
  },
  {
   "cell_type": "code",
   "execution_count": null,
   "metadata": {},
   "outputs": [],
   "source": [
    "r2_score(y_test,y_RFR_whole_pred)"
   ]
  },
  {
   "cell_type": "code",
   "execution_count": null,
   "metadata": {},
   "outputs": [],
   "source": []
  },
  {
   "cell_type": "markdown",
   "metadata": {},
   "source": [
    "# DecisionTreeRegressor"
   ]
  },
  {
   "cell_type": "code",
   "execution_count": null,
   "metadata": {},
   "outputs": [],
   "source": [
    "from sklearn.tree import DecisionTreeRegressor\n",
    "regressor2=DecisionTreeRegressor()"
   ]
  },
  {
   "cell_type": "code",
   "execution_count": null,
   "metadata": {},
   "outputs": [],
   "source": [
    "regressor2.fit(x_train,y_train)"
   ]
  },
  {
   "cell_type": "code",
   "execution_count": null,
   "metadata": {},
   "outputs": [],
   "source": [
    "y_DTR_pred=regressor2.predict(x_test)"
   ]
  },
  {
   "cell_type": "code",
   "execution_count": null,
   "metadata": {},
   "outputs": [],
   "source": [
    "r2_score(y_test,y_DTR_pred)"
   ]
  },
  {
   "cell_type": "code",
   "execution_count": null,
   "metadata": {},
   "outputs": [],
   "source": []
  },
  {
   "cell_type": "code",
   "execution_count": null,
   "metadata": {},
   "outputs": [],
   "source": []
  },
  {
   "cell_type": "code",
   "execution_count": null,
   "metadata": {},
   "outputs": [],
   "source": []
  },
  {
   "cell_type": "markdown",
   "metadata": {},
   "source": [
    "# DecisionTreeClassifier"
   ]
  },
  {
   "cell_type": "code",
   "execution_count": null,
   "metadata": {},
   "outputs": [],
   "source": [
    "# Here we are using Classification because if we can convert the rating into the\n",
    "# whole number then we can classify the applications in 5 categories as 1*,2*,3*,4*,5*.\n",
    "# usine this idea we will be using DecisionTreeClassifier algorithm."
   ]
  },
  {
   "cell_type": "code",
   "execution_count": null,
   "metadata": {},
   "outputs": [],
   "source": [
    "from sklearn.tree import DecisionTreeClassifier\n",
    "classifier = DecisionTreeClassifier()\n",
    "classifier.fit(x_whole_train,y_whole_train)"
   ]
  },
  {
   "cell_type": "code",
   "execution_count": null,
   "metadata": {},
   "outputs": [],
   "source": [
    "y_dtc_pred = classifier.predict(x_whole_test)"
   ]
  },
  {
   "cell_type": "code",
   "execution_count": null,
   "metadata": {},
   "outputs": [],
   "source": [
    "from sklearn.metrics import accuracy_score\n",
    "accuracy_score(y_whole_test,y_dtc_pred)"
   ]
  },
  {
   "cell_type": "code",
   "execution_count": null,
   "metadata": {},
   "outputs": [],
   "source": []
  },
  {
   "cell_type": "code",
   "execution_count": null,
   "metadata": {},
   "outputs": [],
   "source": []
  },
  {
   "cell_type": "code",
   "execution_count": null,
   "metadata": {},
   "outputs": [],
   "source": []
  },
  {
   "cell_type": "code",
   "execution_count": null,
   "metadata": {},
   "outputs": [],
   "source": []
  },
  {
   "cell_type": "code",
   "execution_count": null,
   "metadata": {},
   "outputs": [],
   "source": []
  },
  {
   "cell_type": "code",
   "execution_count": null,
   "metadata": {},
   "outputs": [],
   "source": [
    "from datetime import date\n",
    "from datetime import time\n",
    "from datetime import datetime\n",
    "\n",
    "print(datetime.now())"
   ]
  },
  {
   "cell_type": "code",
   "execution_count": null,
   "metadata": {},
   "outputs": [],
   "source": []
  }
 ],
 "metadata": {
  "kernelspec": {
   "display_name": "Python 3",
   "language": "python",
   "name": "python3"
  },
  "language_info": {
   "codemirror_mode": {
    "name": "ipython",
    "version": 3
   },
   "file_extension": ".py",
   "mimetype": "text/x-python",
   "name": "python",
   "nbconvert_exporter": "python",
   "pygments_lexer": "ipython3",
   "version": "3.7.1"
  }
 },
 "nbformat": 4,
 "nbformat_minor": 2
}
